{
 "cells": [
  {
   "cell_type": "markdown",
   "id": "fa0eff85-bc9a-47e4-9030-9045402cb5bb",
   "metadata": {},
   "source": [
    "# MANE 3351\n",
    "## Lab Ten\n",
    "## Your Name"
   ]
  },
  {
   "cell_type": "markdown",
   "id": "e90ace94-aaab-4b2e-8e7e-6885cdca849d",
   "metadata": {},
   "source": [
    "## Cell 2 (Markdown)"
   ]
  },
  {
   "cell_type": "code",
   "execution_count": 1,
   "id": "1610d5ff-478a-4bc0-9875-0d2b2a8e589d",
   "metadata": {},
   "outputs": [],
   "source": [
    "# Cell three - row echelon solution"
   ]
  },
  {
   "cell_type": "code",
   "execution_count": 2,
   "id": "e1cce94d-0ee4-4e25-8153-dec3ac5ee903",
   "metadata": {},
   "outputs": [],
   "source": [
    "# Cell four - SciPy Linear Algebra solution"
   ]
  }
 ],
 "metadata": {
  "kernelspec": {
   "display_name": "Python 3 (ipykernel)",
   "language": "python",
   "name": "python3"
  },
  "language_info": {
   "codemirror_mode": {
    "name": "ipython",
    "version": 3
   },
   "file_extension": ".py",
   "mimetype": "text/x-python",
   "name": "python",
   "nbconvert_exporter": "python",
   "pygments_lexer": "ipython3",
   "version": "3.12.4"
  }
 },
 "nbformat": 4,
 "nbformat_minor": 5
}
